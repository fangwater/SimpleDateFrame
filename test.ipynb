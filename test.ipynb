{
 "cells": [
  {
   "cell_type": "code",
   "execution_count": 3,
   "metadata": {},
   "outputs": [],
   "source": [
    "import pandas as pd\n",
    "import numpy as np\n",
    "import os,os.path\n",
    "from joblib import Parallel, delayed\n",
    "import warnings\n",
    "from dateutil.relativedelta import relativedelta\n",
    "import collections.abc\n",
    "import datetime"
   ]
  },
  {
   "cell_type": "code",
   "execution_count": 1,
   "metadata": {},
   "outputs": [],
   "source": [
    "data_path = \"./20221206/000002.XSHE.parquet\""
   ]
  },
  {
   "cell_type": "code",
   "execution_count": 4,
   "metadata": {},
   "outputs": [],
   "source": [
    "aa = pd.read_parquet(f'{data_path}')"
   ]
  },
  {
   "cell_type": "code",
   "execution_count": 6,
   "metadata": {},
   "outputs": [
    {
     "data": {
      "text/html": [
       "<div>\n",
       "<style scoped>\n",
       "    .dataframe tbody tr th:only-of-type {\n",
       "        vertical-align: middle;\n",
       "    }\n",
       "\n",
       "    .dataframe tbody tr th {\n",
       "        vertical-align: top;\n",
       "    }\n",
       "\n",
       "    .dataframe thead th {\n",
       "        text-align: right;\n",
       "    }\n",
       "</style>\n",
       "<table border=\"1\" class=\"dataframe\">\n",
       "  <thead>\n",
       "    <tr style=\"text-align: right;\">\n",
       "      <th></th>\n",
       "      <th>securityid</th>\n",
       "      <th>updatetime</th>\n",
       "      <th>tradp</th>\n",
       "      <th>tradv</th>\n",
       "      <th>buyno</th>\n",
       "      <th>sellno</th>\n",
       "      <th>bs</th>\n",
       "      <th>localtime</th>\n",
       "      <th>date</th>\n",
       "    </tr>\n",
       "  </thead>\n",
       "  <tbody>\n",
       "    <tr>\n",
       "      <th>34049700</th>\n",
       "      <td>000002.XSHE</td>\n",
       "      <td>09:15:00.030</td>\n",
       "      <td>0.0</td>\n",
       "      <td>100.0</td>\n",
       "      <td>2734</td>\n",
       "      <td>0</td>\n",
       "      <td>B</td>\n",
       "      <td>09:15:00.069</td>\n",
       "      <td>20221206</td>\n",
       "    </tr>\n",
       "    <tr>\n",
       "      <th>34049746</th>\n",
       "      <td>000002.XSHE</td>\n",
       "      <td>09:15:00.060</td>\n",
       "      <td>0.0</td>\n",
       "      <td>100.0</td>\n",
       "      <td>0</td>\n",
       "      <td>974</td>\n",
       "      <td>S</td>\n",
       "      <td>09:15:00.210</td>\n",
       "      <td>20221206</td>\n",
       "    </tr>\n",
       "    <tr>\n",
       "      <th>34050106</th>\n",
       "      <td>000002.XSHE</td>\n",
       "      <td>09:15:00.620</td>\n",
       "      <td>0.0</td>\n",
       "      <td>1000.0</td>\n",
       "      <td>6460</td>\n",
       "      <td>0</td>\n",
       "      <td>B</td>\n",
       "      <td>09:15:01.933</td>\n",
       "      <td>20221206</td>\n",
       "    </tr>\n",
       "    <tr>\n",
       "      <th>34050326</th>\n",
       "      <td>000002.XSHE</td>\n",
       "      <td>09:15:00.850</td>\n",
       "      <td>0.0</td>\n",
       "      <td>2000.0</td>\n",
       "      <td>0</td>\n",
       "      <td>85086</td>\n",
       "      <td>S</td>\n",
       "      <td>09:15:02.308</td>\n",
       "      <td>20221206</td>\n",
       "    </tr>\n",
       "    <tr>\n",
       "      <th>34050377</th>\n",
       "      <td>000002.XSHE</td>\n",
       "      <td>09:15:00.880</td>\n",
       "      <td>0.0</td>\n",
       "      <td>100.0</td>\n",
       "      <td>87618</td>\n",
       "      <td>0</td>\n",
       "      <td>B</td>\n",
       "      <td>09:15:02.370</td>\n",
       "      <td>20221206</td>\n",
       "    </tr>\n",
       "  </tbody>\n",
       "</table>\n",
       "</div>"
      ],
      "text/plain": [
       "           securityid    updatetime  tradp   tradv  buyno  sellno bs  \\\n",
       "34049700  000002.XSHE  09:15:00.030    0.0   100.0   2734       0  B   \n",
       "34049746  000002.XSHE  09:15:00.060    0.0   100.0      0     974  S   \n",
       "34050106  000002.XSHE  09:15:00.620    0.0  1000.0   6460       0  B   \n",
       "34050326  000002.XSHE  09:15:00.850    0.0  2000.0      0   85086  S   \n",
       "34050377  000002.XSHE  09:15:00.880    0.0   100.0  87618       0  B   \n",
       "\n",
       "             localtime      date  \n",
       "34049700  09:15:00.069  20221206  \n",
       "34049746  09:15:00.210  20221206  \n",
       "34050106  09:15:01.933  20221206  \n",
       "34050326  09:15:02.308  20221206  \n",
       "34050377  09:15:02.370  20221206  "
      ]
     },
     "execution_count": 6,
     "metadata": {},
     "output_type": "execute_result"
    }
   ],
   "source": [
    "aa.head()"
   ]
  },
  {
   "cell_type": "code",
   "execution_count": 28,
   "metadata": {},
   "outputs": [],
   "source": [
    "aa[\"tmp\"] = aa['date'].apply(str)+' '+aa['updatetime'].apply(str)"
   ]
  },
  {
   "cell_type": "code",
   "execution_count": 29,
   "metadata": {},
   "outputs": [
    {
     "data": {
      "text/plain": [
       "34109606    20221206 09:25:00.000\n",
       "34109607    20221206 09:25:00.000\n",
       "34109608    20221206 09:25:00.000\n",
       "34109609    20221206 09:25:00.000\n",
       "34109610    20221206 09:25:00.000\n",
       "Name: tmp, dtype: object"
      ]
     },
     "execution_count": 29,
     "metadata": {},
     "output_type": "execute_result"
    }
   ],
   "source": [
    "aa[\"tmp\"].head()"
   ]
  },
  {
   "cell_type": "code",
   "execution_count": 9,
   "metadata": {},
   "outputs": [],
   "source": [
    "date_t = pd.to_datetime(aa[\"tmp\"])"
   ]
  },
  {
   "cell_type": "code",
   "execution_count": 12,
   "metadata": {},
   "outputs": [],
   "source": [
    "x = pd.to_datetime(f\"2022-12-06 09:15:00.030\")"
   ]
  },
  {
   "cell_type": "code",
   "execution_count": 22,
   "metadata": {},
   "outputs": [
    {
     "name": "stderr",
     "output_type": "stream",
     "text": [
      "/tmp/ipykernel_63493/4013361079.py:5: SettingWithCopyWarning: \n",
      "A value is trying to be set on a copy of a slice from a DataFrame.\n",
      "Try using .loc[row_indexer,col_indexer] = value instead\n",
      "\n",
      "See the caveats in the documentation: https://pandas.pydata.org/pandas-docs/stable/user_guide/indexing.html#returning-a-view-versus-a-copy\n",
      "  aa['tradamt'] = aa['tradv'] * aa['tradp']\n"
     ]
    }
   ],
   "source": [
    "aa['datetime'] = pd.to_datetime(aa['date'].apply(str)+' '+aa['updatetime'].apply(str))\n",
    "# select\n",
    "aa = aa.loc[aa.tradp>0]\n",
    "# \n",
    "aa['tradamt'] = aa['tradv'] * aa['tradp']\n",
    "aa_B = aa.loc[aa.bs == 'B']\n",
    "aa_S = aa.loc[aa.bs == 'S']"
   ]
  },
  {
   "cell_type": "code",
   "execution_count": 30,
   "metadata": {},
   "outputs": [],
   "source": [
    "test = aa.head(10)"
   ]
  },
  {
   "cell_type": "code",
   "execution_count": 38,
   "metadata": {},
   "outputs": [
    {
     "name": "stderr",
     "output_type": "stream",
     "text": [
      "/tmp/ipykernel_63493/220899500.py:2: FutureWarning: reindexing with a non-unique Index is deprecated and will raise in a future version.\n",
      "  obj2 = obj.reindex(['a', 'b', 'c', 'd', 'e'])\n"
     ]
    },
    {
     "ename": "ValueError",
     "evalue": "cannot reindex on an axis with duplicate labels",
     "output_type": "error",
     "traceback": [
      "\u001b[0;31m---------------------------------------------------------------------------\u001b[0m",
      "\u001b[0;31mValueError\u001b[0m                                Traceback (most recent call last)",
      "\u001b[1;32m/home/fanghz/Public/data/data_for_perf/test.ipynb Cell 11\u001b[0m in \u001b[0;36m<cell line: 2>\u001b[0;34m()\u001b[0m\n\u001b[1;32m      <a href='vscode-notebook-cell:/home/fanghz/Public/data/data_for_perf/test.ipynb#X33sZmlsZQ%3D%3D?line=0'>1</a>\u001b[0m obj \u001b[39m=\u001b[39m pd\u001b[39m.\u001b[39mSeries([\u001b[39m4.5\u001b[39m, \u001b[39m7.2\u001b[39m, \u001b[39m-\u001b[39m\u001b[39m5.3\u001b[39m, \u001b[39m3.6\u001b[39m], index \u001b[39m=\u001b[39m [\u001b[39m'\u001b[39m\u001b[39md\u001b[39m\u001b[39m'\u001b[39m, \u001b[39m'\u001b[39m\u001b[39ma\u001b[39m\u001b[39m'\u001b[39m, \u001b[39m'\u001b[39m\u001b[39ma\u001b[39m\u001b[39m'\u001b[39m, \u001b[39m'\u001b[39m\u001b[39mc\u001b[39m\u001b[39m'\u001b[39m])\n\u001b[0;32m----> <a href='vscode-notebook-cell:/home/fanghz/Public/data/data_for_perf/test.ipynb#X33sZmlsZQ%3D%3D?line=1'>2</a>\u001b[0m obj2 \u001b[39m=\u001b[39m obj\u001b[39m.\u001b[39;49mreindex([\u001b[39m'\u001b[39;49m\u001b[39ma\u001b[39;49m\u001b[39m'\u001b[39;49m, \u001b[39m'\u001b[39;49m\u001b[39mb\u001b[39;49m\u001b[39m'\u001b[39;49m, \u001b[39m'\u001b[39;49m\u001b[39mc\u001b[39;49m\u001b[39m'\u001b[39;49m, \u001b[39m'\u001b[39;49m\u001b[39md\u001b[39;49m\u001b[39m'\u001b[39;49m, \u001b[39m'\u001b[39;49m\u001b[39me\u001b[39;49m\u001b[39m'\u001b[39;49m])\n\u001b[1;32m      <a href='vscode-notebook-cell:/home/fanghz/Public/data/data_for_perf/test.ipynb#X33sZmlsZQ%3D%3D?line=2'>3</a>\u001b[0m obj2\n",
      "File \u001b[0;32m~/.local/lib/python3.10/site-packages/pandas/core/series.py:5094\u001b[0m, in \u001b[0;36mSeries.reindex\u001b[0;34m(self, *args, **kwargs)\u001b[0m\n\u001b[1;32m   5090\u001b[0m         \u001b[39mraise\u001b[39;00m \u001b[39mTypeError\u001b[39;00m(\n\u001b[1;32m   5091\u001b[0m             \u001b[39m\"\u001b[39m\u001b[39m'\u001b[39m\u001b[39mindex\u001b[39m\u001b[39m'\u001b[39m\u001b[39m passed as both positional and keyword argument\u001b[39m\u001b[39m\"\u001b[39m\n\u001b[1;32m   5092\u001b[0m         )\n\u001b[1;32m   5093\u001b[0m     kwargs\u001b[39m.\u001b[39mupdate({\u001b[39m\"\u001b[39m\u001b[39mindex\u001b[39m\u001b[39m\"\u001b[39m: index})\n\u001b[0;32m-> 5094\u001b[0m \u001b[39mreturn\u001b[39;00m \u001b[39msuper\u001b[39;49m()\u001b[39m.\u001b[39;49mreindex(\u001b[39m*\u001b[39;49m\u001b[39m*\u001b[39;49mkwargs)\n",
      "File \u001b[0;32m~/.local/lib/python3.10/site-packages/pandas/core/generic.py:5289\u001b[0m, in \u001b[0;36mNDFrame.reindex\u001b[0;34m(self, *args, **kwargs)\u001b[0m\n\u001b[1;32m   5286\u001b[0m     \u001b[39mreturn\u001b[39;00m \u001b[39mself\u001b[39m\u001b[39m.\u001b[39m_reindex_multi(axes, copy, fill_value)\n\u001b[1;32m   5288\u001b[0m \u001b[39m# perform the reindex on the axes\u001b[39;00m\n\u001b[0;32m-> 5289\u001b[0m \u001b[39mreturn\u001b[39;00m \u001b[39mself\u001b[39;49m\u001b[39m.\u001b[39;49m_reindex_axes(\n\u001b[1;32m   5290\u001b[0m     axes, level, limit, tolerance, method, fill_value, copy\n\u001b[1;32m   5291\u001b[0m )\u001b[39m.\u001b[39m__finalize__(\u001b[39mself\u001b[39m, method\u001b[39m=\u001b[39m\u001b[39m\"\u001b[39m\u001b[39mreindex\u001b[39m\u001b[39m\"\u001b[39m)\n",
      "File \u001b[0;32m~/.local/lib/python3.10/site-packages/pandas/core/generic.py:5309\u001b[0m, in \u001b[0;36mNDFrame._reindex_axes\u001b[0;34m(self, axes, level, limit, tolerance, method, fill_value, copy)\u001b[0m\n\u001b[1;32m   5304\u001b[0m new_index, indexer \u001b[39m=\u001b[39m ax\u001b[39m.\u001b[39mreindex(\n\u001b[1;32m   5305\u001b[0m     labels, level\u001b[39m=\u001b[39mlevel, limit\u001b[39m=\u001b[39mlimit, tolerance\u001b[39m=\u001b[39mtolerance, method\u001b[39m=\u001b[39mmethod\n\u001b[1;32m   5306\u001b[0m )\n\u001b[1;32m   5308\u001b[0m axis \u001b[39m=\u001b[39m \u001b[39mself\u001b[39m\u001b[39m.\u001b[39m_get_axis_number(a)\n\u001b[0;32m-> 5309\u001b[0m obj \u001b[39m=\u001b[39m obj\u001b[39m.\u001b[39;49m_reindex_with_indexers(\n\u001b[1;32m   5310\u001b[0m     {axis: [new_index, indexer]},\n\u001b[1;32m   5311\u001b[0m     fill_value\u001b[39m=\u001b[39;49mfill_value,\n\u001b[1;32m   5312\u001b[0m     copy\u001b[39m=\u001b[39;49mcopy,\n\u001b[1;32m   5313\u001b[0m     allow_dups\u001b[39m=\u001b[39;49m\u001b[39mFalse\u001b[39;49;00m,\n\u001b[1;32m   5314\u001b[0m )\n\u001b[1;32m   5315\u001b[0m \u001b[39m# If we've made a copy once, no need to make another one\u001b[39;00m\n\u001b[1;32m   5316\u001b[0m copy \u001b[39m=\u001b[39m \u001b[39mFalse\u001b[39;00m\n",
      "File \u001b[0;32m~/.local/lib/python3.10/site-packages/pandas/core/generic.py:5355\u001b[0m, in \u001b[0;36mNDFrame._reindex_with_indexers\u001b[0;34m(self, reindexers, fill_value, copy, allow_dups)\u001b[0m\n\u001b[1;32m   5352\u001b[0m     indexer \u001b[39m=\u001b[39m ensure_platform_int(indexer)\n\u001b[1;32m   5354\u001b[0m \u001b[39m# TODO: speed up on homogeneous DataFrame objects (see _reindex_multi)\u001b[39;00m\n\u001b[0;32m-> 5355\u001b[0m new_data \u001b[39m=\u001b[39m new_data\u001b[39m.\u001b[39;49mreindex_indexer(\n\u001b[1;32m   5356\u001b[0m     index,\n\u001b[1;32m   5357\u001b[0m     indexer,\n\u001b[1;32m   5358\u001b[0m     axis\u001b[39m=\u001b[39;49mbaxis,\n\u001b[1;32m   5359\u001b[0m     fill_value\u001b[39m=\u001b[39;49mfill_value,\n\u001b[1;32m   5360\u001b[0m     allow_dups\u001b[39m=\u001b[39;49mallow_dups,\n\u001b[1;32m   5361\u001b[0m     copy\u001b[39m=\u001b[39;49mcopy,\n\u001b[1;32m   5362\u001b[0m )\n\u001b[1;32m   5363\u001b[0m \u001b[39m# If we've made a copy once, no need to make another one\u001b[39;00m\n\u001b[1;32m   5364\u001b[0m copy \u001b[39m=\u001b[39m \u001b[39mFalse\u001b[39;00m\n",
      "File \u001b[0;32m~/.local/lib/python3.10/site-packages/pandas/core/internals/managers.py:739\u001b[0m, in \u001b[0;36mBaseBlockManager.reindex_indexer\u001b[0;34m(self, new_axis, indexer, axis, fill_value, allow_dups, copy, only_slice, use_na_proxy)\u001b[0m\n\u001b[1;32m    737\u001b[0m \u001b[39m# some axes don't allow reindexing with dups\u001b[39;00m\n\u001b[1;32m    738\u001b[0m \u001b[39mif\u001b[39;00m \u001b[39mnot\u001b[39;00m allow_dups:\n\u001b[0;32m--> 739\u001b[0m     \u001b[39mself\u001b[39;49m\u001b[39m.\u001b[39;49maxes[axis]\u001b[39m.\u001b[39;49m_validate_can_reindex(indexer)\n\u001b[1;32m    741\u001b[0m \u001b[39mif\u001b[39;00m axis \u001b[39m>\u001b[39m\u001b[39m=\u001b[39m \u001b[39mself\u001b[39m\u001b[39m.\u001b[39mndim:\n\u001b[1;32m    742\u001b[0m     \u001b[39mraise\u001b[39;00m \u001b[39mIndexError\u001b[39;00m(\u001b[39m\"\u001b[39m\u001b[39mRequested axis not found in manager\u001b[39m\u001b[39m\"\u001b[39m)\n",
      "File \u001b[0;32m~/.local/lib/python3.10/site-packages/pandas/core/indexes/base.py:4359\u001b[0m, in \u001b[0;36mIndex._validate_can_reindex\u001b[0;34m(self, indexer)\u001b[0m\n\u001b[1;32m   4357\u001b[0m \u001b[39m# trying to reindex on an axis with duplicates\u001b[39;00m\n\u001b[1;32m   4358\u001b[0m \u001b[39mif\u001b[39;00m \u001b[39mnot\u001b[39;00m \u001b[39mself\u001b[39m\u001b[39m.\u001b[39m_index_as_unique \u001b[39mand\u001b[39;00m \u001b[39mlen\u001b[39m(indexer):\n\u001b[0;32m-> 4359\u001b[0m     \u001b[39mraise\u001b[39;00m \u001b[39mValueError\u001b[39;00m(\u001b[39m\"\u001b[39m\u001b[39mcannot reindex on an axis with duplicate labels\u001b[39m\u001b[39m\"\u001b[39m)\n",
      "\u001b[0;31mValueError\u001b[0m: cannot reindex on an axis with duplicate labels"
     ]
    }
   ],
   "source": [
    "obj = pd.Series([4.5, 7.2, -5.3, 3.6], index = ['d', 'a', 'a', 'c'])\n",
    "obj2 = obj.reindex(['a', 'b', 'c', 'd', 'e'])\n",
    "obj2"
   ]
  },
  {
   "cell_type": "code",
   "execution_count": 36,
   "metadata": {},
   "outputs": [
    {
     "data": {
      "text/plain": [
       "pandas.core.frame.DataFrame"
      ]
     },
     "execution_count": 36,
     "metadata": {},
     "output_type": "execute_result"
    }
   ],
   "source": [
    "type(test)"
   ]
  },
  {
   "cell_type": "code",
   "execution_count": 35,
   "metadata": {},
   "outputs": [
    {
     "data": {
      "text/plain": [
       "Timestamp('2022-12-06 09:15:00.030000')"
      ]
     },
     "execution_count": 35,
     "metadata": {},
     "output_type": "execute_result"
    }
   ],
   "source": [
    "x"
   ]
  },
  {
   "cell_type": "code",
   "execution_count": 43,
   "metadata": {},
   "outputs": [
    {
     "ename": "ValueError",
     "evalue": "Invalid frequency: 100",
     "output_type": "error",
     "traceback": [
      "\u001b[0;31m---------------------------------------------------------------------------\u001b[0m",
      "\u001b[0;31mValueError\u001b[0m                                Traceback (most recent call last)",
      "\u001b[1;32m/home/fanghz/Public/data/data_for_perf/test.ipynb Cell 8\u001b[0m in \u001b[0;36m<cell line: 1>\u001b[0;34m()\u001b[0m\n\u001b[0;32m----> <a href='vscode-notebook-cell:/home/fanghz/Public/data/data_for_perf/test.ipynb#X11sZmlsZQ%3D%3D?line=0'>1</a>\u001b[0m res \u001b[39m=\u001b[39m x\u001b[39m.\u001b[39mgroupby([pd\u001b[39m.\u001b[39;49mGrouper(key\u001b[39m=\u001b[39;49m\u001b[39m'\u001b[39;49m\u001b[39mbuyno\u001b[39;49m\u001b[39m'\u001b[39;49m,freq\u001b[39m=\u001b[39;49m\u001b[39m100\u001b[39;49m,closed\u001b[39m=\u001b[39;49m\u001b[39m'\u001b[39;49m\u001b[39mright\u001b[39;49m\u001b[39m'\u001b[39;49m,label\u001b[39m=\u001b[39;49m\u001b[39m'\u001b[39;49m\u001b[39mright\u001b[39;49m\u001b[39m'\u001b[39;49m,dropna\u001b[39m=\u001b[39;49m\u001b[39mFalse\u001b[39;49;00m)])\n",
      "File \u001b[0;32m~/.local/lib/python3.10/site-packages/pandas/core/resample.py:1613\u001b[0m, in \u001b[0;36mTimeGrouper.__init__\u001b[0;34m(self, freq, closed, label, how, axis, fill_method, limit, loffset, kind, convention, base, origin, offset, group_keys, **kwargs)\u001b[0m\n\u001b[1;32m   1610\u001b[0m \u001b[39mif\u001b[39;00m convention \u001b[39mnot\u001b[39;00m \u001b[39min\u001b[39;00m {\u001b[39mNone\u001b[39;00m, \u001b[39m\"\u001b[39m\u001b[39mstart\u001b[39m\u001b[39m\"\u001b[39m, \u001b[39m\"\u001b[39m\u001b[39mend\u001b[39m\u001b[39m\"\u001b[39m, \u001b[39m\"\u001b[39m\u001b[39me\u001b[39m\u001b[39m\"\u001b[39m, \u001b[39m\"\u001b[39m\u001b[39ms\u001b[39m\u001b[39m\"\u001b[39m}:\n\u001b[1;32m   1611\u001b[0m     \u001b[39mraise\u001b[39;00m \u001b[39mValueError\u001b[39;00m(\u001b[39mf\u001b[39m\u001b[39m\"\u001b[39m\u001b[39mUnsupported value \u001b[39m\u001b[39m{\u001b[39;00mconvention\u001b[39m}\u001b[39;00m\u001b[39m for `convention`\u001b[39m\u001b[39m\"\u001b[39m)\n\u001b[0;32m-> 1613\u001b[0m freq \u001b[39m=\u001b[39m to_offset(freq)\n\u001b[1;32m   1615\u001b[0m end_types \u001b[39m=\u001b[39m {\u001b[39m\"\u001b[39m\u001b[39mM\u001b[39m\u001b[39m\"\u001b[39m, \u001b[39m\"\u001b[39m\u001b[39mA\u001b[39m\u001b[39m\"\u001b[39m, \u001b[39m\"\u001b[39m\u001b[39mQ\u001b[39m\u001b[39m\"\u001b[39m, \u001b[39m\"\u001b[39m\u001b[39mBM\u001b[39m\u001b[39m\"\u001b[39m, \u001b[39m\"\u001b[39m\u001b[39mBA\u001b[39m\u001b[39m\"\u001b[39m, \u001b[39m\"\u001b[39m\u001b[39mBQ\u001b[39m\u001b[39m\"\u001b[39m, \u001b[39m\"\u001b[39m\u001b[39mW\u001b[39m\u001b[39m\"\u001b[39m}\n\u001b[1;32m   1616\u001b[0m rule \u001b[39m=\u001b[39m freq\u001b[39m.\u001b[39mrule_code\n",
      "File \u001b[0;32m~/.local/lib/python3.10/site-packages/pandas/_libs/tslibs/offsets.pyx:3891\u001b[0m, in \u001b[0;36mpandas._libs.tslibs.offsets.to_offset\u001b[0;34m()\u001b[0m\n",
      "File \u001b[0;32m~/.local/lib/python3.10/site-packages/pandas/_libs/tslibs/offsets.pyx:3992\u001b[0m, in \u001b[0;36mpandas._libs.tslibs.offsets.to_offset\u001b[0;34m()\u001b[0m\n",
      "\u001b[0;31mValueError\u001b[0m: Invalid frequency: 100"
     ]
    }
   ],
   "source": [
    "res = x.groupby([pd.Grouper(key='buyno',freq=100,closed='right',label='right',dropna=False)])"
   ]
  },
  {
   "cell_type": "code",
   "execution_count": 41,
   "metadata": {},
   "outputs": [
    {
     "name": "stdout",
     "output_type": "stream",
     "text": [
      "           securityid    updatetime  tradp  tradv   buyno  sellno bs  \\\n",
      "34109032  000001.XSHE  09:25:00.000  13.34  100.0  174034  139157  B   \n",
      "\n",
      "             localtime      date            datetime  tradamt  \n",
      "34109032  09:25:00.223  20221206 2022-12-06 09:25:00   1334.0   \n",
      "\n",
      "\n",
      "           securityid    updatetime  tradp  tradv   buyno  sellno bs  \\\n",
      "34109031  000001.XSHE  09:25:00.000  13.34  100.0  119565  139157  S   \n",
      "34109033  000001.XSHE  09:25:00.000  13.34  100.0  174034  187249  S   \n",
      "34109035  000001.XSHE  09:25:00.000  13.34  100.0  174034  214919  S   \n",
      "34109036  000001.XSHE  09:25:00.000  13.34  100.0  174034  221165  S   \n",
      "\n",
      "             localtime      date            datetime  tradamt  \n",
      "34109031  09:25:00.223  20221206 2022-12-06 09:25:00   1334.0  \n",
      "34109033  09:25:00.223  20221206 2022-12-06 09:25:00   1334.0  \n",
      "34109035  09:25:00.223  20221206 2022-12-06 09:25:00   1334.0  \n",
      "34109036  09:25:00.223  20221206 2022-12-06 09:25:00   1334.0   \n",
      "\n",
      "\n"
     ]
    }
   ],
   "source": [
    "grouped_df = x.groupby([pd.Grouper(key='datetime',freq=f'M',closed='right',label='right',dropna=False),'securityid','bs'])\n",
    "\n",
    "for key, item in grouped_df:\n",
    "    print(grouped_df.get_group(key), \"\\n\\n\")"
   ]
  },
  {
   "cell_type": "code",
   "execution_count": null,
   "metadata": {},
   "outputs": [],
   "source": []
  },
  {
   "cell_type": "code",
   "execution_count": 9,
   "metadata": {},
   "outputs": [],
   "source": [
    "res = aa.groupby([pd.Grouper(key='datetime',freq=f'T',closed='right',label='right',dropna=False),'securityid'])['tradp'].count().to_frame()\n",
    "res.columns = ['cjbs']\n",
    "res['bcjbs'] = aa_B.groupby([pd.Grouper(key='datetime',freq=f'T',closed='right',label='right',dropna=False),'securityid'])['tradp'].count()\n",
    "res['scjbs'] = aa_S.groupby([pd.Grouper(key='datetime',freq=f'T',closed='right',label='right',dropna=False),'securityid'])['tradp'].count()\n",
    "res['volume_nfq'] = aa.groupby([pd.Grouper(key='datetime',freq=f'T',closed='right',label='right',dropna=False),'securityid'])['tradv'].sum()\n",
    "res['bvolume_nfq'] = aa_B.groupby([pd.Grouper(key='datetime',freq=f'T',closed='right',label='right',dropna=False),'securityid'])['tradv'].sum()\n",
    "res['svolume_nfq'] = aa_S.groupby([pd.Grouper(key='datetime',freq=f'T',closed='right',label='right',dropna=False),'securityid'])['tradv'].sum()\n",
    "res['amount'] = aa.groupby([pd.Grouper(key='datetime',freq=f'T',closed='right',label='right',dropna=False),'securityid'])['tradamt'].sum()\n",
    "res['bamount'] = aa_B.groupby([pd.Grouper(key='datetime',freq=f'T',closed='right',label='right',dropna=False),'securityid'])['tradamt'].sum()\n",
    "res['samount'] = aa_S.groupby([pd.Grouper(key='datetime',freq=f'T',closed='right',label='right',dropna=False),'securityid'])['tradamt'].sum()\n",
    "res['closeprice_nfq'] = aa.groupby([pd.Grouper(key='datetime',freq=f'T',closed='right',label='right',dropna=False),'securityid'])['tradp'].last()\n",
    "res['openprice_nfq'] = aa.groupby([pd.Grouper(key='datetime',freq=f'T',closed='right',label='right',dropna=False),'securityid'])['tradp'].first()\n",
    "res['highprice_nfq'] = aa.groupby([pd.Grouper(key='datetime',freq=f'T',closed='right',label='right',dropna=False),'securityid'])['tradp'].max()\n",
    "res['lowprice_nfq'] = aa.groupby([pd.Grouper(key='datetime',freq=f'T',closed='right',label='right',dropna=False),'securityid'])['tradp'].min()"
   ]
  },
  {
   "cell_type": "code",
   "execution_count": 10,
   "metadata": {},
   "outputs": [
    {
     "data": {
      "text/html": [
       "<div>\n",
       "<style scoped>\n",
       "    .dataframe tbody tr th:only-of-type {\n",
       "        vertical-align: middle;\n",
       "    }\n",
       "\n",
       "    .dataframe tbody tr th {\n",
       "        vertical-align: top;\n",
       "    }\n",
       "\n",
       "    .dataframe thead th {\n",
       "        text-align: right;\n",
       "    }\n",
       "</style>\n",
       "<table border=\"1\" class=\"dataframe\">\n",
       "  <thead>\n",
       "    <tr style=\"text-align: right;\">\n",
       "      <th></th>\n",
       "      <th>datetime</th>\n",
       "      <th>securityid</th>\n",
       "      <th>cjbs</th>\n",
       "      <th>bcjbs</th>\n",
       "      <th>scjbs</th>\n",
       "      <th>volume_nfq</th>\n",
       "      <th>bvolume_nfq</th>\n",
       "      <th>svolume_nfq</th>\n",
       "      <th>amount</th>\n",
       "      <th>bamount</th>\n",
       "      <th>samount</th>\n",
       "      <th>closeprice_nfq</th>\n",
       "      <th>openprice_nfq</th>\n",
       "      <th>highprice_nfq</th>\n",
       "      <th>lowprice_nfq</th>\n",
       "    </tr>\n",
       "  </thead>\n",
       "  <tbody>\n",
       "    <tr>\n",
       "      <th>0</th>\n",
       "      <td>2022-12-06 09:25:00</td>\n",
       "      <td>000001.XSHE</td>\n",
       "      <td>536</td>\n",
       "      <td>83</td>\n",
       "      <td>453</td>\n",
       "      <td>1157000.0</td>\n",
       "      <td>178900.0</td>\n",
       "      <td>978100.0</td>\n",
       "      <td>15434380.00</td>\n",
       "      <td>2386526.00</td>\n",
       "      <td>13047854.00</td>\n",
       "      <td>13.34</td>\n",
       "      <td>13.34</td>\n",
       "      <td>13.34</td>\n",
       "      <td>13.34</td>\n",
       "    </tr>\n",
       "    <tr>\n",
       "      <th>1</th>\n",
       "      <td>2022-12-06 09:31:00</td>\n",
       "      <td>000001.XSHE</td>\n",
       "      <td>2771</td>\n",
       "      <td>1353</td>\n",
       "      <td>1418</td>\n",
       "      <td>5269827.0</td>\n",
       "      <td>2297461.0</td>\n",
       "      <td>2972366.0</td>\n",
       "      <td>70157672.20</td>\n",
       "      <td>30600832.25</td>\n",
       "      <td>39556839.95</td>\n",
       "      <td>13.28</td>\n",
       "      <td>13.34</td>\n",
       "      <td>13.39</td>\n",
       "      <td>13.28</td>\n",
       "    </tr>\n",
       "    <tr>\n",
       "      <th>2</th>\n",
       "      <td>2022-12-06 09:32:00</td>\n",
       "      <td>000001.XSHE</td>\n",
       "      <td>1371</td>\n",
       "      <td>584</td>\n",
       "      <td>787</td>\n",
       "      <td>1918500.0</td>\n",
       "      <td>566000.0</td>\n",
       "      <td>1352500.0</td>\n",
       "      <td>25514695.00</td>\n",
       "      <td>7529410.00</td>\n",
       "      <td>17985285.00</td>\n",
       "      <td>13.31</td>\n",
       "      <td>13.28</td>\n",
       "      <td>13.33</td>\n",
       "      <td>13.27</td>\n",
       "    </tr>\n",
       "    <tr>\n",
       "      <th>3</th>\n",
       "      <td>2022-12-06 09:33:00</td>\n",
       "      <td>000001.XSHE</td>\n",
       "      <td>1191</td>\n",
       "      <td>504</td>\n",
       "      <td>687</td>\n",
       "      <td>1325300.0</td>\n",
       "      <td>443400.0</td>\n",
       "      <td>881900.0</td>\n",
       "      <td>17631347.00</td>\n",
       "      <td>5901141.00</td>\n",
       "      <td>11730206.00</td>\n",
       "      <td>13.31</td>\n",
       "      <td>13.30</td>\n",
       "      <td>13.34</td>\n",
       "      <td>13.28</td>\n",
       "    </tr>\n",
       "    <tr>\n",
       "      <th>4</th>\n",
       "      <td>2022-12-06 09:34:00</td>\n",
       "      <td>000001.XSHE</td>\n",
       "      <td>1750</td>\n",
       "      <td>565</td>\n",
       "      <td>1185</td>\n",
       "      <td>3507100.0</td>\n",
       "      <td>877800.0</td>\n",
       "      <td>2629300.0</td>\n",
       "      <td>46585686.00</td>\n",
       "      <td>11664731.00</td>\n",
       "      <td>34920955.00</td>\n",
       "      <td>13.28</td>\n",
       "      <td>13.31</td>\n",
       "      <td>13.33</td>\n",
       "      <td>13.25</td>\n",
       "    </tr>\n",
       "    <tr>\n",
       "      <th>...</th>\n",
       "      <td>...</td>\n",
       "      <td>...</td>\n",
       "      <td>...</td>\n",
       "      <td>...</td>\n",
       "      <td>...</td>\n",
       "      <td>...</td>\n",
       "      <td>...</td>\n",
       "      <td>...</td>\n",
       "      <td>...</td>\n",
       "      <td>...</td>\n",
       "      <td>...</td>\n",
       "      <td>...</td>\n",
       "      <td>...</td>\n",
       "      <td>...</td>\n",
       "      <td>...</td>\n",
       "    </tr>\n",
       "    <tr>\n",
       "      <th>232</th>\n",
       "      <td>2022-12-06 14:54:00</td>\n",
       "      <td>000001.XSHE</td>\n",
       "      <td>308</td>\n",
       "      <td>125</td>\n",
       "      <td>183</td>\n",
       "      <td>336385.0</td>\n",
       "      <td>117085.0</td>\n",
       "      <td>219300.0</td>\n",
       "      <td>4510688.85</td>\n",
       "      <td>1570314.85</td>\n",
       "      <td>2940374.00</td>\n",
       "      <td>13.41</td>\n",
       "      <td>13.42</td>\n",
       "      <td>13.42</td>\n",
       "      <td>13.40</td>\n",
       "    </tr>\n",
       "    <tr>\n",
       "      <th>233</th>\n",
       "      <td>2022-12-06 14:55:00</td>\n",
       "      <td>000001.XSHE</td>\n",
       "      <td>296</td>\n",
       "      <td>174</td>\n",
       "      <td>122</td>\n",
       "      <td>618040.0</td>\n",
       "      <td>249640.0</td>\n",
       "      <td>368400.0</td>\n",
       "      <td>8290332.80</td>\n",
       "      <td>3349723.80</td>\n",
       "      <td>4940609.00</td>\n",
       "      <td>13.42</td>\n",
       "      <td>13.41</td>\n",
       "      <td>13.43</td>\n",
       "      <td>13.40</td>\n",
       "    </tr>\n",
       "    <tr>\n",
       "      <th>234</th>\n",
       "      <td>2022-12-06 14:56:00</td>\n",
       "      <td>000001.XSHE</td>\n",
       "      <td>404</td>\n",
       "      <td>246</td>\n",
       "      <td>158</td>\n",
       "      <td>455900.0</td>\n",
       "      <td>252940.0</td>\n",
       "      <td>202960.0</td>\n",
       "      <td>6121372.60</td>\n",
       "      <td>3397037.40</td>\n",
       "      <td>2724335.20</td>\n",
       "      <td>13.43</td>\n",
       "      <td>13.42</td>\n",
       "      <td>13.44</td>\n",
       "      <td>13.41</td>\n",
       "    </tr>\n",
       "    <tr>\n",
       "      <th>235</th>\n",
       "      <td>2022-12-06 14:57:00</td>\n",
       "      <td>000001.XSHE</td>\n",
       "      <td>296</td>\n",
       "      <td>143</td>\n",
       "      <td>153</td>\n",
       "      <td>389400.0</td>\n",
       "      <td>159353.0</td>\n",
       "      <td>230047.0</td>\n",
       "      <td>5226435.88</td>\n",
       "      <td>2139583.14</td>\n",
       "      <td>3086852.74</td>\n",
       "      <td>13.41</td>\n",
       "      <td>13.42</td>\n",
       "      <td>13.44</td>\n",
       "      <td>13.40</td>\n",
       "    </tr>\n",
       "    <tr>\n",
       "      <th>236</th>\n",
       "      <td>2022-12-06 15:00:00</td>\n",
       "      <td>000001.XSHE</td>\n",
       "      <td>436</td>\n",
       "      <td>232</td>\n",
       "      <td>204</td>\n",
       "      <td>1181900.0</td>\n",
       "      <td>521590.0</td>\n",
       "      <td>660310.0</td>\n",
       "      <td>15872917.00</td>\n",
       "      <td>7004953.70</td>\n",
       "      <td>8867963.30</td>\n",
       "      <td>13.43</td>\n",
       "      <td>13.43</td>\n",
       "      <td>13.43</td>\n",
       "      <td>13.43</td>\n",
       "    </tr>\n",
       "  </tbody>\n",
       "</table>\n",
       "<p>237 rows × 15 columns</p>\n",
       "</div>"
      ],
      "text/plain": [
       "               datetime   securityid  cjbs  bcjbs  scjbs  volume_nfq  \\\n",
       "0   2022-12-06 09:25:00  000001.XSHE   536     83    453   1157000.0   \n",
       "1   2022-12-06 09:31:00  000001.XSHE  2771   1353   1418   5269827.0   \n",
       "2   2022-12-06 09:32:00  000001.XSHE  1371    584    787   1918500.0   \n",
       "3   2022-12-06 09:33:00  000001.XSHE  1191    504    687   1325300.0   \n",
       "4   2022-12-06 09:34:00  000001.XSHE  1750    565   1185   3507100.0   \n",
       "..                  ...          ...   ...    ...    ...         ...   \n",
       "232 2022-12-06 14:54:00  000001.XSHE   308    125    183    336385.0   \n",
       "233 2022-12-06 14:55:00  000001.XSHE   296    174    122    618040.0   \n",
       "234 2022-12-06 14:56:00  000001.XSHE   404    246    158    455900.0   \n",
       "235 2022-12-06 14:57:00  000001.XSHE   296    143    153    389400.0   \n",
       "236 2022-12-06 15:00:00  000001.XSHE   436    232    204   1181900.0   \n",
       "\n",
       "     bvolume_nfq  svolume_nfq       amount      bamount      samount  \\\n",
       "0       178900.0     978100.0  15434380.00   2386526.00  13047854.00   \n",
       "1      2297461.0    2972366.0  70157672.20  30600832.25  39556839.95   \n",
       "2       566000.0    1352500.0  25514695.00   7529410.00  17985285.00   \n",
       "3       443400.0     881900.0  17631347.00   5901141.00  11730206.00   \n",
       "4       877800.0    2629300.0  46585686.00  11664731.00  34920955.00   \n",
       "..           ...          ...          ...          ...          ...   \n",
       "232     117085.0     219300.0   4510688.85   1570314.85   2940374.00   \n",
       "233     249640.0     368400.0   8290332.80   3349723.80   4940609.00   \n",
       "234     252940.0     202960.0   6121372.60   3397037.40   2724335.20   \n",
       "235     159353.0     230047.0   5226435.88   2139583.14   3086852.74   \n",
       "236     521590.0     660310.0  15872917.00   7004953.70   8867963.30   \n",
       "\n",
       "     closeprice_nfq  openprice_nfq  highprice_nfq  lowprice_nfq  \n",
       "0             13.34          13.34          13.34         13.34  \n",
       "1             13.28          13.34          13.39         13.28  \n",
       "2             13.31          13.28          13.33         13.27  \n",
       "3             13.31          13.30          13.34         13.28  \n",
       "4             13.28          13.31          13.33         13.25  \n",
       "..              ...            ...            ...           ...  \n",
       "232           13.41          13.42          13.42         13.40  \n",
       "233           13.42          13.41          13.43         13.40  \n",
       "234           13.43          13.42          13.44         13.41  \n",
       "235           13.41          13.42          13.44         13.40  \n",
       "236           13.43          13.43          13.43         13.43  \n",
       "\n",
       "[237 rows x 15 columns]"
      ]
     },
     "execution_count": 10,
     "metadata": {},
     "output_type": "execute_result"
    }
   ],
   "source": [
    "res.reset_index()"
   ]
  }
 ],
 "metadata": {
  "kernelspec": {
   "display_name": "Python 3",
   "language": "python",
   "name": "python3"
  },
  "language_info": {
   "codemirror_mode": {
    "name": "ipython",
    "version": 3
   },
   "file_extension": ".py",
   "mimetype": "text/x-python",
   "name": "python",
   "nbconvert_exporter": "python",
   "pygments_lexer": "ipython3",
   "version": "3.10.6 (main, Nov 14 2022, 16:10:14) [GCC 11.3.0]"
  },
  "orig_nbformat": 4,
  "vscode": {
   "interpreter": {
    "hash": "916dbcbb3f70747c44a77c7bcd40155683ae19c65e1c03b4aa3499c5328201f1"
   }
  }
 },
 "nbformat": 4,
 "nbformat_minor": 2
}
